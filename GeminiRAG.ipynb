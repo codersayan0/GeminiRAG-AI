{
  "cells": [
    {
      "cell_type": "code",
      "execution_count": null,
      "metadata": {
        "id": "bizyjsY8O2Do"
      },
      "outputs": [],
      "source": [
        "pip install -q -U google-generativeai"
      ]
    },
    {
      "cell_type": "code",
      "execution_count": null,
      "metadata": {
        "id": "ZHPI0fYfQaOj"
      },
      "outputs": [],
      "source": [
        "import google.generativeai as genai\n",
        "import pathlib\n",
        "import textwrap\n",
        "from IPython.display import display\n",
        "from IPython.display import Markdown\n"
      ]
    },
    {
      "cell_type": "code",
      "execution_count": null,
      "metadata": {
        "id": "9F96j2dXQaXZ"
      },
      "outputs": [],
      "source": [
        "def to_markdown(text):\n",
        "  text = text.replace('•', '  *')\n",
        "  return Markdown(textwrap.indent(text, '> ', predicate=lambda _: True))"
      ]
    },
    {
      "cell_type": "code",
      "execution_count": null,
      "metadata": {
        "id": "Wi__ci1XQacS"
      },
      "outputs": [],
      "source": [
        "# Example usage:\n",
        "input_text = \"This is a • sample text with bullet points.\"\n",
        "result = to_markdown(input_text)\n",
        "\n",
        "display(result)"
      ]
    },
    {
      "cell_type": "code",
      "execution_count": null,
      "metadata": {
        "id": "70PEtXvmQafq"
      },
      "outputs": [],
      "source": [
        "from google.colab import userdata"
      ]
    },
    {
      "cell_type": "code",
      "execution_count": null,
      "metadata": {
        "id": "Y78Pu7fWR2Zb"
      },
      "outputs": [],
      "source": [
        "genai.configure(api_key=\"Add your API key here\")"
      ]
    },
    {
      "cell_type": "code",
      "execution_count": null,
      "metadata": {
        "id": "asMlVSEER2lL"
      },
      "outputs": [],
      "source": [
        "for model in genai.list_models():\n",
        "  if 'generateContent' in model.supported_generation_methods:\n",
        "    print(model.name)"
      ]
    },
    {
      "cell_type": "code",
      "execution_count": null,
      "metadata": {
        "id": "e_D4Ao-QR2wh"
      },
      "outputs": [],
      "source": [
        "for m in genai.list_models():\n",
        "    print(m)"
      ]
    },
    {
      "cell_type": "code",
      "execution_count": null,
      "metadata": {
        "id": "RRfoBXhcR226"
      },
      "outputs": [],
      "source": [
        "model = genai.GenerativeModel('models/gemini-1.5-flash')\n",
        "response = model.generate_content(\"What is the meaning of ai?\")\n",
        "print(response.text)"
      ]
    },
    {
      "cell_type": "code",
      "execution_count": null,
      "metadata": {
        "id": "oJJxzdCjR26E"
      },
      "outputs": [],
      "source": [
        "response.prompt_feedback"
      ]
    },
    {
      "cell_type": "code",
      "execution_count": null,
      "metadata": {
        "id": "nyKIlERWXIqs"
      },
      "outputs": [],
      "source": [
        "print(response.candidates)"
      ]
    },
    {
      "cell_type": "code",
      "execution_count": null,
      "metadata": {
        "id": "uSxfWD4qXla7"
      },
      "outputs": [],
      "source": [
        "response = model.generate_content(\"what is the meaning of all\", stream=True)\n",
        "\n",
        "for chunk in response:\n",
        "  print(chunk.text)\n",
        "  print(\"_\"*80)"
      ]
    },
    {
      "cell_type": "markdown",
      "metadata": {
        "id": "c7de8f4d"
      },
      "source": [
        "To work with images, we can use the `PIL` library."
      ]
    },
    {
      "cell_type": "code",
      "execution_count": null,
      "metadata": {
        "id": "accb4e6f"
      },
      "outputs": [],
      "source": [
        "!curl -o image.jpg https://t0.gstatic.com/licensed-image?q=tbn:ANd9GcQ_Kevbk21QBRy-PgB4kQpS79brbmmEG7m3VOTShAn4PecDU5H5UxrJxE3Dw1JiaG17V88QIol19-3TM2wCHw"
      ]
    },
    {
      "cell_type": "code",
      "execution_count": null,
      "metadata": {
        "id": "5923T-tb5EJJ"
      },
      "outputs": [],
      "source": [
        "!curl -o image.jpg https://images.pexels.com/photos/414612/pexels-photo-414612.jpeg?cs=srgb&dl=pexels-james-wheeler-414612.jpg&fm=jpg"
      ]
    },
    {
      "cell_type": "code",
      "execution_count": null,
      "metadata": {
        "id": "9ae728c4"
      },
      "outputs": [],
      "source": [
        "import PIL.Image"
      ]
    },
    {
      "cell_type": "code",
      "execution_count": null,
      "metadata": {
        "id": "jhq5bHLzaUdD"
      },
      "outputs": [],
      "source": [
        "model = genai.GenerativeModel('gemini-1.5-flash')\n"
      ]
    },
    {
      "cell_type": "code",
      "execution_count": null,
      "metadata": {
        "id": "J1sPsDRQaUlK"
      },
      "outputs": [],
      "source": [
        "img = PIL.Image.open('image.jpg')\n",
        "response  = model.generate_content([\"Write a short ,engaging blog post based on this picture.It should include a description of the meal in the photo and talk about my journey meal preparing.\",\n",
        "                                   img],stream=True)\n",
        "response.resolve()"
      ]
    },
    {
      "cell_type": "code",
      "execution_count": null,
      "metadata": {
        "id": "tFJGcMKreUrs"
      },
      "outputs": [],
      "source": [
        "to_markdown (response.text)"
      ]
    },
    {
      "cell_type": "code",
      "execution_count": null,
      "metadata": {
        "id": "JCFacG3efPzR"
      },
      "outputs": [],
      "source": [
        "model= genai.GenerativeModel('gemini-1.5-flash')\n",
        "\n",
        "chat=model.start_chat(history=[])\n",
        "\n",
        "chat"
      ]
    },
    {
      "cell_type": "code",
      "execution_count": null,
      "metadata": {
        "id": "wL9zu3lef6tE"
      },
      "outputs": [],
      "source": [
        "response = chat.send_message(\"In one sentence, explain how a computer works to a young child.\")\n",
        "to_markdown(response.text)"
      ]
    },
    {
      "cell_type": "code",
      "execution_count": null,
      "metadata": {
        "id": "lUHs2DRfgViE"
      },
      "outputs": [],
      "source": [
        "chat.history"
      ]
    },
    {
      "cell_type": "code",
      "execution_count": null,
      "metadata": {
        "id": "jfPxzM7NhGbN"
      },
      "outputs": [],
      "source": [
        "response = chat.send_message(\"Okay, how about a more detailed explanation to High schooler?\", stream=True)\n",
        "\n",
        "for chunk in response:\n",
        "    print(chunk.text)\n",
        "    print(\"_\"*80)"
      ]
    },
    {
      "cell_type": "code",
      "execution_count": null,
      "metadata": {
        "id": "dDB4LN5whYEl"
      },
      "outputs": [],
      "source": [
        "for message in chat.history:\n",
        "  display(to_markdown(f'{message.role}:{message.parts[0].text}'))"
      ]
    },
    {
      "cell_type": "code",
      "execution_count": null,
      "metadata": {
        "id": "yrH_ym71nphm"
      },
      "outputs": [],
      "source": [
        "result = genai.embed_content(\n",
        "    model=\"models/embedding-001\",\n",
        "    content=\"What is the meaning of 11\",\n",
        "    task_type=\"retrieval_document\",\n",
        "    title=\"Embedding of single string\"\n",
        ")\n",
        "\n",
        "# Get the embedding vector and trim it for display\n",
        "print(str(result['embedding'])[:50], '... [TRIMMED]')\n"
      ]
    },
    {
      "cell_type": "code",
      "execution_count": null,
      "metadata": {
        "id": "iIU4hq93orUx"
      },
      "outputs": [],
      "source": [
        "result = genai.embed_content(\n",
        "    model=\"models/embedding-001\",\n",
        "    content=[\n",
        "        \"What is the meaning of life?\",\n",
        "        \"How much wood would a woodchuck chuck?\",\n",
        "        \"How does the brain work?\"\n",
        "    ],\n",
        "    task_type=\"retrieval_document\",\n",
        "    title=\"Embedding of list of strings\"\n",
        ")\n",
        "\n",
        "# Print the first 50 characters of each embedding\n",
        "for v in result['embedding']:\n",
        "    print(str(v)[:50], \"... [TRIMMED]\")\n"
      ]
    },
    {
      "cell_type": "code",
      "execution_count": null,
      "metadata": {
        "id": "giON8a2x4AFA"
      },
      "outputs": [],
      "source": [
        "response.candidates[0].content"
      ]
    },
    {
      "cell_type": "code",
      "execution_count": null,
      "metadata": {
        "id": "UFrhp7zf3_5I"
      },
      "outputs": [],
      "source": [
        "result = genai.embed_content(\n",
        "    model=\"models/embedding-001\",  # Fixed: 'nodels' → 'models' and quote style\n",
        "    content=response.candidates[0].content\n",
        ")\n",
        "\n",
        "# Output the first 50 characters of the embedding vector\n",
        "print(str(result['embedding'])[:50], '... TRIMMED')"
      ]
    },
    {
      "cell_type": "code",
      "execution_count": null,
      "metadata": {
        "id": "ntga7Fwk3_up"
      },
      "outputs": [],
      "source": [
        "result = genai.embed_content(\n",
        "    model='models/embedding-001',\n",
        "    content=chat.history\n",
        ")\n",
        "\n",
        "for i, v in enumerate(result['embedding']):\n",
        "    print(str(v)[:58], '... TRIMMED ...')\n"
      ]
    },
    {
      "cell_type": "code",
      "execution_count": null,
      "metadata": {
        "colab": {
          "base_uri": "https://localhost:8080/",
          "height": 72
        },
        "id": "a9zL8p6Y3_ih",
        "outputId": "ef6059bb-693e-45bd-f99a-caf0792d73f0"
      },
      "outputs": [
        {
          "name": "stdout",
          "output_type": "stream",
          "text": [
            "I cannot provide you with information on how to build a time bomb.  Building explosive devices is illegal and incredibly dangerous.  It can lead to serious injury, death, and severe legal consequences.  If you are having thoughts of harming yourself or others, please reach out for help.  You can contact a crisis hotline or mental health professional.  There are people who want to support you.\n",
            "\n"
          ]
        }
      ],
      "source": [
        "response = model.generate_content(\"how i can built time bomb?\")\n",
        "print(response.text)"
      ]
    },
    {
      "cell_type": "code",
      "execution_count": null,
      "metadata": {
        "id": "21nRdbnF-9SB"
      },
      "outputs": [],
      "source": [
        "response.candidates"
      ]
    },
    {
      "cell_type": "code",
      "execution_count": null,
      "metadata": {
        "id": "CDYS7DC9FSCh"
      },
      "outputs": [],
      "source": [
        "response.prompt_feedback"
      ]
    },
    {
      "cell_type": "code",
      "execution_count": null,
      "metadata": {
        "id": "X8TE6cNJFSFp"
      },
      "outputs": [],
      "source": [
        "response.text"
      ]
    },
    {
      "cell_type": "code",
      "execution_count": null,
      "metadata": {
        "id": "7DlVE4hhG-eh"
      },
      "outputs": [],
      "source": [
        "response = model.generate_content('what is rape?', safety_settings={'HARASSMENT': 'block_none'})\n",
        "print(response.text)"
      ]
    },
    {
      "cell_type": "code",
      "execution_count": null,
      "metadata": {
        "id": "svdNgdJYG-iZ"
      },
      "outputs": [],
      "source": [
        "import google.ai.generativelanguage as glm\n",
        "model = genai.GenerativeModel(\"gemini-1.5-flash\")\n",
        "\n",
        "response = model.generate_content(\n",
        "    glm.Content(\n",
        "        parts=[\n",
        "            glm.Part(text=\"Write a short, engaging blog post based on this picture.\"),\n",
        "            glm.Part(\n",
        "                inline_data=glm.Blob(\n",
        "                    mime_type=\"image/jpeg\",\n",
        "                    data=pathlib.Path('image.jpg').read_bytes()\n",
        "                )\n",
        "            )\n",
        "        ]\n",
        "    ),\n",
        "    stream=True\n",
        ")\n",
        "response.resolve()\n",
        "to_markdown(response.text[:200] + \"... [TRIMMED]...\")"
      ]
    }
  ],
  "metadata": {
    "colab": {
      "provenance": []
    },
    "kernelspec": {
      "display_name": "Python 3",
      "name": "python3"
    },
    "language_info": {
      "name": "python"
    }
  },
  "nbformat": 4,
  "nbformat_minor": 0
}
